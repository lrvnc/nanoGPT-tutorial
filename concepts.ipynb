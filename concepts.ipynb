{
 "cells": [
  {
   "attachments": {},
   "cell_type": "markdown",
   "metadata": {},
   "source": [
    "# The data\n",
    "---"
   ]
  },
  {
   "cell_type": "code",
   "execution_count": 28,
   "metadata": {},
   "outputs": [
    {
     "name": "stdout",
     "output_type": "stream",
     "text": [
      "Length of text: 1115394 characters\n"
     ]
    }
   ],
   "source": [
    "# Reading our data\n",
    "with open('input.txt', 'r', encoding='utf-8') as f:\n",
    "    text = f.read()\n",
    "print(\"Length of text: {} characters\".format(len(text)))"
   ]
  },
  {
   "cell_type": "code",
   "execution_count": 29,
   "metadata": {},
   "outputs": [
    {
     "name": "stdout",
     "output_type": "stream",
     "text": [
      "First Citizen:\n",
      "Before we proceed any further, hear me speak.\n",
      "\n",
      "All:\n",
      "Speak, speak.\n",
      "\n",
      "First Citizen:\n",
      "You are all resolved rather to die than to famish?\n",
      "\n",
      "All:\n",
      "Resolved. resolved.\n",
      "\n",
      "First Citizen:\n",
      "First, you know Caius Marcius is chief enemy to the people.\n",
      "\n"
     ]
    }
   ],
   "source": [
    "# Let's look at the first 250 characters in text\n",
    "print(text[:250])"
   ]
  },
  {
   "cell_type": "code",
   "execution_count": 30,
   "metadata": {},
   "outputs": [
    {
     "name": "stdout",
     "output_type": "stream",
     "text": [
      "Number of unique characters: 65\n",
      "\n",
      " !$&',-.3:;?ABCDEFGHIJKLMNOPQRSTUVWXYZabcdefghijklmnopqrstuvwxyz\n"
     ]
    }
   ],
   "source": [
    "# Let's create our vocabulary, based on our data\n",
    "chars = sorted(list(set(text))) # set() removes duplicates\n",
    "vocab_size = len(chars) # We will call it C, from Channel\n",
    "print(\"Number of unique characters: {}\".format(vocab_size))\n",
    "print(''.join(chars))"
   ]
  },
  {
   "cell_type": "code",
   "execution_count": 31,
   "metadata": {},
   "outputs": [
    {
     "name": "stdout",
     "output_type": "stream",
     "text": [
      "[18, 47, 56, 57, 58, 1, 15, 47, 58, 47, 64, 43, 52]\n",
      "First Citizen\n"
     ]
    }
   ],
   "source": [
    "# Now we need to tokenize our text\n",
    "char2idx = {u:i for i, u in enumerate(chars)}\n",
    "idx2char = {i:u for i, u in enumerate(chars)}\n",
    "\n",
    "# Here we create two functions to encode and decode our text\n",
    "tokenize = lambda text: [char2idx[c] for c in text] # encode text to numbers\n",
    "detokenize = lambda indexes: ''.join([idx2char[c] for c in indexes]) # decode indexes to text\n",
    "\n",
    "# Let's try it\n",
    "ec = tokenize(text[:13])\n",
    "dc = detokenize(ec)\n",
    "print(ec)\n",
    "print(dc)"
   ]
  },
  {
   "cell_type": "code",
   "execution_count": 32,
   "metadata": {},
   "outputs": [
    {
     "name": "stdout",
     "output_type": "stream",
     "text": [
      "Shape of data: torch.Size([1115394])\n",
      "tensor([18, 47, 56, 57, 58,  1, 15, 47, 58, 47, 64, 43, 52])\n"
     ]
    }
   ],
   "source": [
    "# Let's tokenize our entire text and pass it to a Tensor\n",
    "import torch\n",
    "data = torch.tensor(tokenize(text), dtype=torch.long)\n",
    "print('Shape of data: {}'.format(data.shape))\n",
    "print(data[:13])"
   ]
  },
  {
   "cell_type": "code",
   "execution_count": 33,
   "metadata": {},
   "outputs": [
    {
     "name": "stdout",
     "output_type": "stream",
     "text": [
      "Shape of train_data: torch.Size([1003854])\n",
      "Shape of test_data: torch.Size([111540])\n"
     ]
    }
   ],
   "source": [
    "# Let's split the data into train and test sets\n",
    "n = int(0.9*len(data))\n",
    "train_data = data[:n]\n",
    "val_data = data[n:]\n",
    "print('Shape of train_data: {}'.format(train_data.shape))\n",
    "print('Shape of test_data: {}'.format(val_data.shape))"
   ]
  },
  {
   "attachments": {},
   "cell_type": "markdown",
   "metadata": {},
   "source": [
    "# Sampling and Batching the data\n",
    "---"
   ]
  },
  {
   "cell_type": "code",
   "execution_count": 34,
   "metadata": {},
   "outputs": [
    {
     "name": "stdout",
     "output_type": "stream",
     "text": [
      "tensor([18, 47, 56, 57, 58,  1, 15, 47, 58])\n",
      "---\n",
      "\n",
      "Context: tensor([18]) -> Target: 47\n",
      "Context: tensor([18, 47]) -> Target: 56\n",
      "Context: tensor([18, 47, 56]) -> Target: 57\n",
      "Context: tensor([18, 47, 56, 57]) -> Target: 58\n",
      "Context: tensor([18, 47, 56, 57, 58]) -> Target: 1\n",
      "Context: tensor([18, 47, 56, 57, 58,  1]) -> Target: 15\n",
      "Context: tensor([18, 47, 56, 57, 58,  1, 15]) -> Target: 47\n",
      "Context: tensor([18, 47, 56, 57, 58,  1, 15, 47]) -> Target: 58\n"
     ]
    }
   ],
   "source": [
    "# We can't feed all the data directly to our model\n",
    "# In fact, we will train our model with chunks (or blocks) of data\n",
    "# Each block of data has a maximum length, that we can choose\n",
    "\n",
    "block_size = 8\n",
    "print(train_data[:block_size+1], end='\\n---\\n\\n')\n",
    "\n",
    "# In a single block, we have multiple examples to train our model,\n",
    "# because all this characters follow each other. For example:\n",
    "\n",
    "x = train_data[:block_size]\n",
    "y = train_data[1:block_size+1] # y is the next character after x (what we want to predict)\n",
    "\n",
    "for t in range(block_size):\n",
    "    context = x[:t+1]\n",
    "    target = y[t]\n",
    "    print('Context: {} -> Target: {}'.format(context, target))\n",
    "\n",
    "# So the role of our model is to predict the next character, given a context.\n",
    "# Note that the context is truncated at a maximum length (block_size)!"
   ]
  },
  {
   "cell_type": "code",
   "execution_count": 35,
   "metadata": {},
   "outputs": [
    {
     "name": "stdout",
     "output_type": "stream",
     "text": [
      "Shape of xb: torch.Size([4, 8]) and yb: torch.Size([4, 8])\n",
      "\n",
      "tensor([[24, 43, 58,  5, 57,  1, 46, 43],\n",
      "        [44, 53, 56,  1, 58, 46, 39, 58],\n",
      "        [52, 58,  1, 58, 46, 39, 58,  1],\n",
      "        [25, 17, 27, 10,  0, 21,  1, 54]])\n",
      "\n",
      "tensor([[43, 58,  5, 57,  1, 46, 43, 39],\n",
      "        [53, 56,  1, 58, 46, 39, 58,  1],\n",
      "        [58,  1, 58, 46, 39, 58,  1, 46],\n",
      "        [17, 27, 10,  0, 21,  1, 54, 39]])\n"
     ]
    }
   ],
   "source": [
    "torch.manual_seed(1337)\n",
    "batch_size = 4 # number of independent blocks (sequences) we will process in parallel\n",
    "block_size = 8 # maximum context length for predictions\n",
    "\n",
    "# We define a function to generate a batch of randomly picked blocks from our text\n",
    "def get_batch(split):\n",
    "    # Generate a smal batch of data of inputs x and targets y\n",
    "    data = train_data if split == 'train' else val_data\n",
    "    ix = torch.randint(len(data)-block_size, (batch_size,)) # random start indices for the examples\n",
    "    x = torch.stack([data[i:i+block_size] for i in ix]) # (batch_size, block_size)\n",
    "    y = torch.stack([data[i+1:i+block_size+1] for i in ix]) # targets (the same as inputs, but shifted one character ahead)\n",
    "    return x, y\n",
    "\n",
    "xb, yb = get_batch('train')\n",
    "print('Shape of xb: {} and yb: {}'.format(xb.shape, yb.shape), end='\\n\\n')\n",
    "print(xb, end='\\n\\n')\n",
    "print(yb)"
   ]
  },
  {
   "attachments": {},
   "cell_type": "markdown",
   "metadata": {},
   "source": [
    "# The Bigram Model\n",
    "---"
   ]
  },
  {
   "cell_type": "code",
   "execution_count": 36,
   "metadata": {},
   "outputs": [
    {
     "name": "stdout",
     "output_type": "stream",
     "text": [
      "torch.Size([32, 65]) tensor(4.8786, grad_fn=<NllLossBackward0>)\n",
      "\n",
      "\n",
      "Sr?qP-QWktXoL&jLDJgOLVz'RIoDqHdhsV&vLLxatjscMpwLERSPyao.qfzs$Ys$zF-w,;eEkzxjgCKFChs!iWW.ObzDnxA Ms$3\n"
     ]
    }
   ],
   "source": [
    "# Let's implement the simplest wording embedding possible: a Bigram Model\n",
    "# We can do this, because in our model the tokens do not talk to each other,\n",
    "# they are completely independent (there's no context involved).\n",
    "\n",
    "import torch\n",
    "import torch.nn as nn\n",
    "from torch.nn import functional as F\n",
    "torch.manual_seed(1337)\n",
    "\n",
    "class BigramLanguageModel(nn.Module):\n",
    "    def __init__(self, vocab_size) -> None:\n",
    "        super().__init__()\n",
    "        # Each token directly read off the lofigs for the next token from a lookup table\n",
    "        self.token_embedding_table = nn.Embedding(vocab_size, vocab_size)\n",
    "\n",
    "    def forward(self, idx, targets=None):\n",
    "        # idx and targets are both (B, T) tensor of integers\n",
    "        # The logits are the \"scores\" for the next character in the sequence\n",
    "        logits = self.token_embedding_table(idx) # (B, T, C)\n",
    "        \n",
    "        if targets is None:\n",
    "            return logits, None\n",
    "        else:\n",
    "            B, T, C = logits.shape\n",
    "            logits = logits.view(B*T, C) # (B*T, C) => Flatten to pass to nn.CrossEntropyLoss\n",
    "            targets = targets.view(B*T) # (B*T) => Flatten to pass to nn.CrossEntropyLoss\n",
    "            loss = F.cross_entropy(logits, targets)\n",
    "            return logits, loss\n",
    "    \n",
    "    def generate(self, idx, max_new_tokens):\n",
    "        # This is the function we will use to generate new text given a context\n",
    "\n",
    "        # idx is a (B, T) tensor of integers in the current context\n",
    "        for _ in range(max_new_tokens):\n",
    "            logits, loss = self(idx) # Get the predictions\n",
    "            logits = logits[:,-1,:] # Focus only on the last time step => (B, C)\n",
    "            probs = F.softmax(logits, dim=-1) # Turn logits into probabilities\n",
    "            new_tokens = torch.multinomial(probs, num_samples=1) # Sample from the distribution => (B, 1)\n",
    "            idx = torch.cat([idx, new_tokens], dim=1) # Append the new tokens to the current context => (B, T+1)\n",
    "        return idx\n",
    "    \n",
    "m = BigramLanguageModel(vocab_size)\n",
    "out, loss = m(xb, yb)\n",
    "print(out.shape, loss, end='\\n\\n')\n",
    "\n",
    "# Let's test the generate function\n",
    "idx = torch.zeros([1,1], dtype=torch.long) # (B, T) => (1, 1)\n",
    "\n",
    "# It's reasonable to kick off the generation using 0 as the first token,\n",
    "# because 0 is the index \\n (newline) in our vocabulary\n",
    "\n",
    "print(detokenize(m.generate(idx, max_new_tokens=100)[0].tolist()))"
   ]
  },
  {
   "cell_type": "code",
   "execution_count": 37,
   "metadata": {},
   "outputs": [
    {
     "data": {
      "image/png": "[encoded data removed]",
      "text/plain": [
       "<Figure size 640x480 with 1 Axes>"
      ]
     },
     "metadata": {},
     "output_type": "display_data"
    }
   ],
   "source": [
    "# Let's train this Bigram Model\n",
    "\n",
    "optimizer = torch.optim.AdamW(m.parameters(), lr=1e-3)\n",
    "\n",
    "batch_size = 32\n",
    "losses = []\n",
    "\n",
    "for steps in range(1000):\n",
    "    # Get a batch of data\n",
    "    xb, yb = get_batch('train')\n",
    "    # Evaluate the loss\n",
    "    _, loss = m(xb, yb)\n",
    "    # Reset the gradients\n",
    "    optimizer.zero_grad(set_to_none=True)\n",
    "    # Backpropagate the loss\n",
    "    loss.backward()\n",
    "    # Update the parameters\n",
    "    optimizer.step()\n",
    "    # Save the loss value\n",
    "    losses.append(loss.item())\n",
    "\n",
    "import matplotlib.pyplot as plt\n",
    "plt.plot(losses)\n",
    "plt.show()"
   ]
  },
  {
   "cell_type": "code",
   "execution_count": 38,
   "metadata": {},
   "outputs": [
    {
     "name": "stdout",
     "output_type": "stream",
     "text": [
      "\n",
      "olylvLLko'TMyatyIoconxad.?-tNSqYPsx&bF.oiR;BD$dZBMZv'K f bRSmIKptRPly:AUC&$zLK,qUEy&Ay;ZxjKVhmrdagC-bTop-QJe.H?x\n",
      "JGF&pwst-P sti.hlEsu;w:w a BG:tLhMk,epdhlay'sVzLq--ERwXUzDnq-bn czXxxI&V&Pynnl,s,Ioto!uvixwC-IJXElrgm C-.bcoCPJ\n",
      "IMphsevhO AL!-K:AIkpre,\n",
      "r\n"
     ]
    }
   ],
   "source": [
    "# We start to see we have something more reasonable in the geration!\n",
    "print(detokenize(m.generate(idx, max_new_tokens=250)[0].tolist()))"
   ]
  },
  {
   "attachments": {},
   "cell_type": "markdown",
   "metadata": {},
   "source": [
    "The Mathematical trick in Self-Attention\n",
    "---"
   ]
  },
  {
   "cell_type": "code",
   "execution_count": 39,
   "metadata": {},
   "outputs": [
    {
     "name": "stdout",
     "output_type": "stream",
     "text": [
      "tensor([[ 0.1808, -0.0700],\n",
      "        [-0.0894, -0.4926],\n",
      "        [ 0.1490, -0.3199],\n",
      "        [ 0.3504, -0.2238],\n",
      "        [ 0.3525,  0.0545],\n",
      "        [ 0.0688, -0.0396],\n",
      "        [ 0.0927, -0.0682],\n",
      "        [-0.0341,  0.1332]])\n"
     ]
    }
   ],
   "source": [
    "# Let's consider the following toy example:\n",
    "import torch\n",
    "torch.manual_seed(1337)\n",
    "B,T,C = 4,8,2 # batch, time, channels\n",
    "x = torch.randn(B,T,C) # (B, T, C)\n",
    "\n",
    "# Given a token location in a sentence, we want the context from its past.\n",
    "# In a first approach, we can \"summarize\" its past by averaging all the tokens\n",
    "# that came before it.\n",
    "\n",
    "# We want x[b,t] = mean_{i<=t} x[b,i]\n",
    "xbow = torch.zeros((B,T,C))\n",
    "for b in range(B):\n",
    "    for t in range(T):\n",
    "        xprev = x[b, :t+1] # (t+1, C)\n",
    "        xbow[b,t] = xprev.mean(dim=0)\n",
    "\n",
    "print(xbow[0])\n",
    "\n",
    "# However, due to this nested for loop, this is not very efficient.\n",
    "# And here we introduce the mathematical trick"
   ]
  },
  {
   "cell_type": "code",
   "execution_count": 40,
   "metadata": {},
   "outputs": [
    {
     "name": "stdout",
     "output_type": "stream",
     "text": [
      "tensor([[1.0000, 0.0000, 0.0000],\n",
      "        [0.5000, 0.5000, 0.0000],\n",
      "        [0.3333, 0.3333, 0.3333]])\n",
      "tensor([[8., 6.],\n",
      "        [5., 2.],\n",
      "        [4., 4.]])\n",
      "tensor([[8.0000, 6.0000],\n",
      "        [6.5000, 4.0000],\n",
      "        [5.6667, 4.0000]])\n"
     ]
    }
   ],
   "source": [
    "# We can compute the cumulative sum of the tokens in the sentence\n",
    "# using matrix multiplication!\n",
    "a = torch.tril(torch.ones(3,3)) # (T, T) => Lower triangular matrix\n",
    "a /= a.sum(dim=-1, keepdim=True) # (T, T) => Normalize the rows so they sum to 1\n",
    "b = torch.randint(0, 10, (3,2)).float() # (T, C) => Random tokens\n",
    "c = a @ b # (T, T) @ (T, C) => (T, C) => Cumulative sum of tokens\n",
    "\n",
    "# Let's see how this works\n",
    "print(a)\n",
    "print(b)\n",
    "print(c)"
   ]
  },
  {
   "cell_type": "code",
   "execution_count": 41,
   "metadata": {},
   "outputs": [
    {
     "data": {
      "text/plain": [
       "True"
      ]
     },
     "execution_count": 41,
     "metadata": {},
     "output_type": "execute_result"
    }
   ],
   "source": [
    "# Let's compare the two approaches\n",
    "wei = torch.tril(torch.ones((T,T))) # (T,T) -> Lower triangular matrix\n",
    "wei /= wei.sum(dim=-1, keepdim=True) # (T,T) -> Normalize the rows so they sum to 1\n",
    "xbow2 = wei @ x # (T,T) @ (B,T,C) --> \"(B,T,T) @ (B,T,C)\" --> (B,T,C)\n",
    "torch.allclose(xbow, xbow2)"
   ]
  },
  {
   "cell_type": "code",
   "execution_count": 70,
   "metadata": {},
   "outputs": [
    {
     "name": "stdout",
     "output_type": "stream",
     "text": [
      "tensor([[0., -inf, -inf, -inf, -inf, -inf, -inf, -inf],\n",
      "        [0., 0., -inf, -inf, -inf, -inf, -inf, -inf],\n",
      "        [0., 0., 0., -inf, -inf, -inf, -inf, -inf],\n",
      "        [0., 0., 0., 0., -inf, -inf, -inf, -inf],\n",
      "        [0., 0., 0., 0., 0., -inf, -inf, -inf],\n",
      "        [0., 0., 0., 0., 0., 0., -inf, -inf],\n",
      "        [0., 0., 0., 0., 0., 0., 0., -inf],\n",
      "        [0., 0., 0., 0., 0., 0., 0., 0.]])\n",
      "tensor([[1.0000, 0.0000, 0.0000, 0.0000, 0.0000, 0.0000, 0.0000, 0.0000],\n",
      "        [0.5000, 0.5000, 0.0000, 0.0000, 0.0000, 0.0000, 0.0000, 0.0000],\n",
      "        [0.3333, 0.3333, 0.3333, 0.0000, 0.0000, 0.0000, 0.0000, 0.0000],\n",
      "        [0.2500, 0.2500, 0.2500, 0.2500, 0.0000, 0.0000, 0.0000, 0.0000],\n",
      "        [0.2000, 0.2000, 0.2000, 0.2000, 0.2000, 0.0000, 0.0000, 0.0000],\n",
      "        [0.1667, 0.1667, 0.1667, 0.1667, 0.1667, 0.1667, 0.0000, 0.0000],\n",
      "        [0.1429, 0.1429, 0.1429, 0.1429, 0.1429, 0.1429, 0.1429, 0.0000],\n",
      "        [0.1250, 0.1250, 0.1250, 0.1250, 0.1250, 0.1250, 0.1250, 0.1250]])\n"
     ]
    }
   ],
   "source": [
    "# We can write this same mask in a more interesting way:\n",
    "tril = torch.tril(torch.ones((T,T))) # (T,T) -> Lower triangular matrix\n",
    "wei = torch.tril(torch.zeros(T,T)) # (T,T)\n",
    "wei = wei.masked_fill(tril==0, value=float('-inf')) # (T,T) -> Masked fill\n",
    "print(wei)\n",
    "wei = wei.softmax(dim=-1) # (T,T) -> Softmax: exp + norm by row (each row sums to 1)\n",
    "print(wei)\n",
    "# This way we can do weighted agregations of our past elements with matrix multiplication\n",
    "# We can think this weighted agregation as an affinity"
   ]
  },
  {
   "cell_type": "code",
   "execution_count": 71,
   "metadata": {},
   "outputs": [
    {
     "data": {
      "text/plain": [
       "<matplotlib.image.AxesImage at 0x7fb06f673580>"
      ]
     },
     "execution_count": 71,
     "metadata": {},
     "output_type": "execute_result"
    },
    {
     "data": {
      "image/png": "[encoded data removed]",
      "text/plain": [
       "<Figure size 640x480 with 1 Axes>"
      ]
     },
     "metadata": {},
     "output_type": "display_data"
    }
   ],
   "source": [
    "# Let's take a look at the weights\n",
    "plt.imshow(wei.detach().numpy())"
   ]
  },
  {
   "attachments": {},
   "cell_type": "markdown",
   "metadata": {},
   "source": [
    "# Self-Attention!\n",
    "---"
   ]
  },
  {
   "cell_type": "code",
   "execution_count": 57,
   "metadata": {},
   "outputs": [],
   "source": [
    "torch.manual_seed(1337)\n",
    "B,T,C = 4,8,32 # batch, time, channels\n",
    "x = torch.randn(B,T,C) # (B, T, C)"
   ]
  },
  {
   "cell_type": "code",
   "execution_count": 73,
   "metadata": {},
   "outputs": [
    {
     "data": {
      "text/plain": [
       "torch.Size([4, 8, 32])"
      ]
     },
     "execution_count": 73,
     "metadata": {},
     "output_type": "execute_result"
    }
   ],
   "source": [
    "# We don't want that tril mask to be uniform, because tokes can talk to other tokens (or nodes) with more\n",
    "# or less affinity. The way that self attention deals with it, in a data dependent manner, is by creating\n",
    "# two vectors that are associated to each token:\n",
    "#  - Query: what the node is looking for\n",
    "#  - Key: what the node contains\n",
    "# To get the affinity between the tokens, we take the dot product between the query and the key\n",
    "\n",
    "# This way, we introduce a new concept that is the Head of the attention:\n",
    "head_size = 16 # H\n",
    "key = nn.Linear(C, head_size, bias=False)\n",
    "query = nn.Linear(C, head_size, bias=False)\n",
    "k = key(x) # (B,T,C) -> (B,T,H)\n",
    "q = query(x) # (B,T,C) -> (B,T,H)\n",
    "\n",
    "# No communication between tokens happend yet. We need to compute the affinity between them:\n",
    "wei = q @ k.transpose(-2,-1) # (B,T,H) @ (B,H,T) -> (B,T,T)\n",
    "tril = torch.tril(torch.ones((T,T))) # (T,T) -> Lower triangular matrix\n",
    "wei = wei.masked_fill(tril==0, value=float('-inf')) # (T,T) -> Masking wei (affinity)\n",
    "wei = F.softmax(wei, dim=-1) # (T,T) -> Log softmax\n",
    "\n",
    "out = wei @ x # (B,T,T) @ (B,T,C) -> (B,T,C)\n",
    "out.shape"
   ]
  },
  {
   "cell_type": "code",
   "execution_count": 74,
   "metadata": {},
   "outputs": [
    {
     "data": {
      "image/png": "[encoded data removed]",
      "text/plain": [
       "<Figure size 640x480 with 1 Axes>"
      ]
     },
     "metadata": {},
     "output_type": "display_data"
    }
   ],
   "source": [
    "# Let's take a look at the attention weights\n",
    "plt.imshow(wei[0].detach().numpy())\n",
    "plt.show()"
   ]
  },
  {
   "cell_type": "code",
   "execution_count": 77,
   "metadata": {},
   "outputs": [
    {
     "data": {
      "text/plain": [
       "torch.Size([4, 8, 16])"
      ]
     },
     "execution_count": 77,
     "metadata": {},
     "output_type": "execute_result"
    }
   ],
   "source": [
    "# There's a last layer complexity in this attantion head, which is the value vector.\n",
    "# The value vector is the vector that tells us what the node \"is going to say\".\n",
    "# We can think of it as a generalization of the \"private\" form of the raw input vector.\n",
    "\n",
    "head_size = 16 # H\n",
    "key = nn.Linear(C, head_size, bias=False)\n",
    "query = nn.Linear(C, head_size, bias=False)\n",
    "value = nn.Linear(C, head_size, bias=False)\n",
    "k = key(x) # (B,T,C) -> (B,T,H)\n",
    "q = query(x) # (B,T,C) -> (B,T,H)\n",
    "v = value(x) # (B,T,C) -> (B,T,H)\n",
    "\n",
    "wei = q @ k.transpose(-2,-1) # (B,T,H) @ (B,H,T) -> (B,T,T)\n",
    "tril = torch.tril(torch.ones((T,T))) # (T,T) -> Lower triangular matrix\n",
    "wei = wei.masked_fill(tril==0, value=float('-inf')) # (T,T) -> Masking wei (affinity)\n",
    "wei = F.softmax(wei, dim=-1) # (T,T) -> Log softmax\n",
    "\n",
    "out = wei @ v # (B,T,T) @ (B,T,H) -> (B,T,H)\n",
    "out.shape"
   ]
  },
  {
   "attachments": {},
   "cell_type": "markdown",
   "metadata": {},
   "source": [
    "## Notes\n",
    "---\n",
    "\n",
    "* Attention is a **communication mechanism**. We can see it as a graph, where each node communicates with each other that they are allowed, aggregating information with a weighted sum, where these weights are data dependent (can be learned).\n",
    "* There is no notion of space on the \"node pools\". This is why we need to encode this information with the positional embedding.\n",
    "* We can change the way we encode information by changing the mask we are using. We are simply masking the future tokes, because this would give the answer to our model. However, when dealing with sentiment analysis, for example, we could let all the tokes talk to each other in order to ecode the information and obtain a better performance.\n",
    "* All batches are completely independent (they don't communicate to each other). \n",
    "* The reason what we implemented is called *Self-attention* is because the keys, queries and values are coming from the same source vector. There's another mechanism that is called *Cross-attention*, where the keys and queries come from a different pool of nodes, and just the values are generated from our source."
   ]
  },
  {
   "cell_type": "code",
   "execution_count": 88,
   "metadata": {},
   "outputs": [
    {
     "name": "stdout",
     "output_type": "stream",
     "text": [
      "tensor(1.0296) tensor(0.9528)\n",
      "\n",
      "Var without norm: 14.973930358886719\n",
      "Var with norm: 0.9358706474304199\n"
     ]
    }
   ],
   "source": [
    "# As a final step, we need to normalize the weights of the attention head.\n",
    "# We do this by dividing it by the square root of the head size. Why? Because it preserves the variance of the\n",
    "# weights to one. If you have unit gaussian key and queries, and we do wei naïvely, we will end up with a variance\n",
    "# ~H. Therefore, if we divide by sqrt(H), the output will have variance 1. We call it Scaled Attention.\n",
    "\n",
    "k = torch.randn(B,T,16)\n",
    "q = torch.randn(B,T,16)\n",
    "print(q.var(), k.var(), end='\\n\\n')\n",
    "\n",
    "print('Var without norm: {}'.format((q @ k.transpose(-1,-2)).var(), end='\\n\\n')) # No normalization\n",
    "print('Var with norm: {}'.format(((q @ k.transpose(-1,-2))*head_size**-0.5).var())) # Normalization"
   ]
  }
 ],
 "metadata": {
  "kernelspec": {
   "display_name": "myenv",
   "language": "python",
   "name": "python3"
  },
  "language_info": {
   "codemirror_mode": {
    "name": "ipython",
    "version": 3
   },
   "file_extension": ".py",
   "mimetype": "text/x-python",
   "name": "python",
   "nbconvert_exporter": "python",
   "pygments_lexer": "ipython3",
   "version": "3.10.9"
  },
  "orig_nbformat": 4
 },
 "nbformat": 4,
 "nbformat_minor": 2
}
